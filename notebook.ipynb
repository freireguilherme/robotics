{
 "cells": [
  {
   "cell_type": "code",
   "execution_count": 17,
   "metadata": {},
   "outputs": [
    {
     "name": "stdout",
     "output_type": "stream",
     "text": [
      "1.23.1\n"
     ]
    }
   ],
   "source": [
    "# We will do the imports required for this notebook here\n",
    "\n",
    "# numpy provides import array and linear algebra utilities\n",
    "import numpy as np\n",
    "print (np.__version__)\n",
    "\n",
    "# the robotics toolbox provides robotics specific functionality\n",
    "import roboticstoolbox as rtb\n",
    "\n",
    "# spatial math provides objects for representing transformations\n",
    "import spatialmath as sm"
   ]
  },
  {
   "cell_type": "markdown",
   "metadata": {},
   "source": [
    "## Definição do manipulador ABB IRB 460\n",
    "\n",
    "Com base no trabalho de Cozmin Cristoiu e Adrian Nicolescu, NEW APPROACH FOR FORWARD KINEMATICS\n",
    "MODELING OF INDUSTRIAL ROBOTS WITH CLOSED KINEMATIC CHAIN,\n",
    "as matrizes de transformação referente ao manipulador IRB 460 foram feitas. Só é necessário preencher com os valores não nulos. A função usadda é a `ET`, elementary transformation. Nela definimos cada rotação ou translação que ocorre de um frame para outro.\n",
    "\n",
    "As matrizes de transformação pode ser visualizadas em\n",
    "https://docs.google.com/spreadsheets/d/1L_g5gxfoq4cghjRyVMdMbR_i7hNX9XNrxOBWqDRwLb0/edit?usp=sharing"
   ]
  },
  {
   "cell_type": "code",
   "execution_count": 54,
   "metadata": {},
   "outputs": [],
   "source": [
    "#tamanho dos elos ativos\n",
    "l1 = 0.2345\n",
    "l2 = 0.508\n",
    "l3 = 0.260\n",
    "l4 = 0.945\n",
    "l5 = 1.025\n",
    "l6 = 0.220\n",
    "l7 = -0.2515\n",
    "\n",
    "E1 = rtb.ET.tz(l1)         #0_1\n",
    "E2 = rtb.ET.tx(l3)         #1_2\n",
    "E3 = rtb.ET.tz(l2)         #1_2\n",
    "E4 = rtb.ET.tx(l3)         #1_3\n",
    "E5 = rtb.ET.tz(l2)         #1_3\n",
    "E6 = rtb.ET.tz(l4)         #2_4\n",
    "E7 = rtb.ET.tx(-0.400)     #5\n",
    "E8 = rtb.ET.Ry()           #6\n",
    "E9 = rtb.ET.tz(l4)         #7\n",
    "E10 = rtb.ET.tx(l5)         #4_5\n",
    "E11 = rtb.ET.Ry()           #9\n",
    "E12 = rtb.ET.tx(-l3)        #9\n",
    "E13 = rtb.ET.tz(0.437)      #9\n",
    "E14 = rtb.ET.tx(0.247)      #10\n",
    "E15 = rtb.ET.tz(0.804)      #10\n",
    "E16 = rtb.ET.Ry()           #11\n",
    "E17 = rtb.ET.tx(0.04884)    #12\n",
    "E18 = rtb.ET.tz(-0.6488)    #12\n",
    "E19 = rtb.ET.Ry()           #13\n",
    "E20 = rtb.ET.tx(-0.0350)    #14\n",
    "E21 = rtb.ET.tz(0.33367)    #14\n",
    "E22 = rtb.ET.Ry()           #15\n",
    "E23 = rtb.ET.tx(0.795)      #16\n",
    "E24 = rtb.ET.tz(-0.193)     #16\n",
    "E25 = rtb.ET.Ry()           #17\n",
    "E26 = rtb.ET.Rz()           #18 5_6\n",
    "E27 = rtb.ET.tx(l6)         #18 5_6\n",
    "E28 = rtb.ET.tz(l7)         #18 5_6\n"
   ]
  },
  {
   "cell_type": "markdown",
   "metadata": {},
   "source": [
    "Como sabemos, o produto vetorial dessas matrizes nos dá a informação que relaciona o primeiro frame 0 até o ultimo frame,\n",
    "o qual é fixado o órgão terminal. É o chamado `ETS`, elementary transformation sequence.\n",
    "\n",
    "O artigo citado indica que a matriz de transformada homogêna da base para o órgão terminal é dado por:\n",
    "\n",
    "`T_base-end_flange = T01*T12*T23*T34*T45*T56`"
   ]
  },
  {
   "cell_type": "code",
   "execution_count": 55,
   "metadata": {},
   "outputs": [],
   "source": [
    "irb460 = E1 * E2 * E3 * E4 * E5 * E9 * E25 * E26 * E27 *E28"
   ]
  },
  {
   "cell_type": "code",
   "execution_count": 56,
   "metadata": {},
   "outputs": [
    {
     "name": "stdout",
     "output_type": "stream",
     "text": [
      "tz(0.2345) ⊕ tx(0.26) ⊕ tz(0.508) ⊕ tx(0.26) ⊕ tz(0.508) ⊕ tz(0.945) ⊕ Ry(q0) ⊕ Rz(q1) ⊕ tx(0.22) ⊕ tz(-0.2515)\n"
     ]
    }
   ],
   "source": [
    "print(irb460)"
   ]
  },
  {
   "cell_type": "code",
   "execution_count": 64,
   "metadata": {},
   "outputs": [
    {
     "name": "stdout",
     "output_type": "stream",
     "text": [
      "O IRB460 possui 2 juntas\n"
     ]
    }
   ],
   "source": [
    "# The ETS class has many usefull properties\n",
    "# print the number of joints in the irb460 model\n",
    "print(f\"O IRB460 possui {irb460.n} juntas\")"
   ]
  },
  {
   "cell_type": "markdown",
   "metadata": {},
   "source": [
    "Como podemos ver, o RTB apontou que o manipulador possui apenas duas juntas. Isso se deve porque na definição do IRB460 por\n",
    "meio de `ET`s, e com base na definição para 'T_base-end_flange' que o artigo deduz, apenas duas rotações foram computadas."
   ]
  },
  {
   "cell_type": "code",
   "execution_count": 65,
   "metadata": {},
   "outputs": [
    {
     "name": "stdout",
     "output_type": "stream",
     "text": [
      "O IRB460 possui 10 ETs\n"
     ]
    }
   ],
   "source": [
    "# print the number of ETs in the irb460 model\n",
    "print(f\"O IRB460 possui {irb460.m} ETs\")"
   ]
  },
  {
   "cell_type": "markdown",
   "metadata": {},
   "source": [
    "Aqui podemos ver algumas informações que as próprias `ET's` nos formecem. Podemos acessar uma transformação específica\n",
    "por meio de acesso de index. É dito que quando adicionamos uma ET a uma ETS, é definido um index para a junta. Porém\n",
    "aqui tive retorno `None`."
   ]
  },
  {
   "cell_type": "code",
   "execution_count": 68,
   "metadata": {
    "tags": []
   },
   "outputs": [
    {
     "name": "stdout",
     "output_type": "stream",
     "text": [
      "A segunda ET na ETS é tx(0.26)\n",
      "A primeira variável de junta possui jindex None, enquanto a segunda possui jindex None\n",
      "Todas as variáveis de junta da ETS do IRB460 \n",
      "[ET.Ry(jindex=0), ET.Rz(jindex=1)]\n"
     ]
    }
   ],
   "source": [
    "# We can access an ET from an ETS as if the ETS were a Python list\n",
    "print(f\"A segunda ET na ETS é {irb460[1]}\")\n",
    "\n",
    "# When a variable ET is added to an ETS, it is assigned a jindex, which is short for joint index\n",
    "# When given an array of joint coordinates (i.e. joint angles), the ETS will use the jindices of each\n",
    "# variable ET to correspond with elements of the given joint coordiante array\n",
    "print(f\"A primeira variável de junta possui jindex {irb460[1].jindex}, enquanto a segunda possui jindex {irb460[2].jindex}\")\n",
    "\n",
    "# We can extract all of the variable ETs from the irb460 model as a list\n",
    "print(f\"Todas as variáveis de junta da ETS do IRB460 \\n{irb460.joints()}\")"
   ]
  },
  {
   "cell_type": "markdown",
   "metadata": {},
   "source": [
    "Aqui calculamos a cinemática direta por três métodos. O primeiro faz uma iteração pelas ET do manipulador. No segundo e \n",
    "terceiro método usamos funções próprias do `RTB`. Uma mostra o resultado como um objeto `SE3` e a última, como um `numpy array`.\n",
    "\n",
    "Todas elas usam o vetor de posição q e q1. Eles contém as coordenadas das juntas para então encontrar a posição e orientação do último frame."
   ]
  },
  {
   "cell_type": "code",
   "execution_count": 62,
   "metadata": {},
   "outputs": [
    {
     "name": "stdout",
     "output_type": "stream",
     "text": [
      "   0.9553    0.2955    0         0.7302    \n",
      "  -0.2955    0.9553    0        -0.06501   \n",
      "   0         0         1         1.944     \n",
      "   0         0         0         1         \n",
      "\n",
      "  -0.7094    0.4967    0.5       0.2382    \n",
      "   0.5736    0.8192    0         0.1262    \n",
      "  -0.4096    0.2868   -0.866     2.323     \n",
      "   0         0         0         1         \n",
      "\n"
     ]
    }
   ],
   "source": [
    "# Using the above methodolgy, we can calculate the forward kinematics of our IRB460 model\n",
    "# First, we must define the joint coordinates q, to calculate the forward kinematics at\n",
    "q = np.array([0, -0.3, 0, -2.2, 0, 2, 0.79])\n",
    "q1 = np.array([2.617993878, 0.6108652382, 0.6981317008, np.pi/2, np.pi/2, 0.5235987756, 0])\n",
    "\n",
    "# Allocate the resulting forward kinematics array\n",
    "fk = np.eye(4) #matriz com 1 na diagonal e 0 em todo resto.\n",
    "fk1 = np.eye(4) #matriz com 1 na diagonal e 0 em todo resto.\n",
    "\n",
    "# Now we must loop over the ETs in the IRB460 \n",
    "for et in irb460:\n",
    "    if et.isjoint:\n",
    "        # This ET is a variable joint\n",
    "        # Use the q array to specify the joint angle for the variable ET\n",
    "        fk = fk @ et.A(q[et.jindex])\n",
    "    else:\n",
    "        # This ET is static\n",
    "        fk = fk @ et.A()\n",
    "\n",
    "print(sm.SE3(fk))\n",
    "\n",
    "for et in irb460:\n",
    "    if et.isjoint:\n",
    "        # This ET is a variable joint\n",
    "        # Use the q array to specify the joint angle for the variable ET\n",
    "        fk1 = fk1 @ et.A(q1[et.jindex])\n",
    "    else:\n",
    "        # This ET is static\n",
    "        fk1 = fk1 @ et.A()\n",
    "\n",
    "# Pretty print our resulting forward kinematics using an SE3 object\n",
    "print(sm.SE3(fk1))"
   ]
  },
  {
   "cell_type": "code",
   "execution_count": 63,
   "metadata": {},
   "outputs": [
    {
     "name": "stdout",
     "output_type": "stream",
     "text": [
      "The fkine method: \n",
      "  -0.7094    0.4967    0.5       0.2382    \n",
      "   0.5736    0.8192    0         0.1262    \n",
      "  -0.4096    0.2868   -0.866     2.323     \n",
      "   0         0         0         1         \n",
      "\n",
      "The eval method: \n",
      "[[ 0.95533649  0.29552021  0.          0.73017403]\n",
      " [-0.29552021  0.95533649  0.         -0.06501445]\n",
      " [ 0.          0.          1.          1.944     ]\n",
      " [ 0.          0.          0.          1.        ]]\n"
     ]
    }
   ],
   "source": [
    "# The ETS class has the .fkine method which can calculate the forward kinematics\n",
    "# The .fkine methods returns an SE3 object\n",
    "print(f\"The fkine method: \\n{irb460.fkine(q1)}\")\n",
    "\n",
    "# The .eval method also calculates the forward kinematics but returns an numpy array\n",
    "# instead of an SE3 object (use this if speed is a priority)\n",
    "print(f\"The eval method: \\n{irb460.eval(q)}\")"
   ]
  },
  {
   "cell_type": "code",
   "execution_count": null,
   "metadata": {},
   "outputs": [],
   "source": []
  }
 ],
 "metadata": {
  "kernelspec": {
   "display_name": "Python 3 (ipykernel)",
   "language": "python",
   "name": "python3"
  },
  "language_info": {
   "codemirror_mode": {
    "name": "ipython",
    "version": 3
   },
   "file_extension": ".py",
   "mimetype": "text/x-python",
   "name": "python",
   "nbconvert_exporter": "python",
   "pygments_lexer": "ipython3",
   "version": "3.9.12"
  },
  "vscode": {
   "interpreter": {
    "hash": "fae28e4d1ea63edeb0972ebfb21374fca886aa025d808ec2717f7f3a3a702185"
   }
  }
 },
 "nbformat": 4,
 "nbformat_minor": 4
}
