{
 "cells": [
  {
   "cell_type": "code",
   "execution_count": 1,
   "id": "23575639-1e3f-4359-ade6-fd5d3865596c",
   "metadata": {},
   "outputs": [],
   "source": [
    "# We will do the imports required for this notebook here\n",
    "\n",
    "# numpy provides import array and linear algebra utilities\n",
    "import numpy as np\n",
    "\n",
    "# the robotics toolbox provides robotics specific functionality\n",
    "import roboticstoolbox as rtb\n",
    "\n",
    "# spatial math provides objects for representing transformations\n",
    "import spatialmath as sm\n",
    "\n",
    "# use timeit to benchmark some methods\n",
    "from timeit import default_timer as timer\n",
    "\n",
    "# ansitable is a great package for printing tables in a terminal\n",
    "from ansitable import ANSITable"
   ]
  },
  {
   "cell_type": "markdown",
   "id": "26355d05-9852-4799-92dd-b44c6eea5e1f",
   "metadata": {},
   "source": [
    "## Definição do manipulador ABB IRB 460"
   ]
  },
  {
   "cell_type": "code",
   "execution_count": 11,
   "id": "bf55171b-52be-4c14-9c1f-ea9511c2c061",
   "metadata": {},
   "outputs": [],
   "source": [
    "#tamanho dos elos ativos\n",
    "l1 = 0.2345\n",
    "l2 = 0.508\n",
    "l3 = 0.260\n",
    "l4 = 0.945\n",
    "l5 = 1.025\n",
    "l6 = 0.220\n",
    "l7 = -0.2515\n",
    "\n",
    "E1 = rtb.ET.tx(l3)     #0_1\n",
    "E2 = rtb.ET.tz(l2)     #0_1\n",
    "E3 = rtb.ET.tx(l3)     #0_1\n",
    "E4 = rtb.ET.tz(l2)     #1_3\n",
    "E5 = rtb.ET.tz(l4)     #2_4\n",
    "E6 = rtb.ET.tx(-0.400) #3_p1\n",
    "E7 = rtb.ET.Ry()       #reset p1_0\n",
    "E8 = rtb.ET.tz(l4)     #p1_p2\n",
    "E9 = rtb.ET.tx(l5)     #4_5\n",
    "E10 = rtb.ET.Ry()      #1_p3 \n",
    "E11 = rtb.ET.tx(-l3)   #1_p3 \n",
    "E12 = rtb.ET.tz(0.437) #1_p3 \n",
    "E13 = rtb.ET.tx(0.247) #p3_p4 \n",
    "E14 = rtb.ET.tz(0.804) #p3_p4\n",
    "E15 = rtb.ET.Ry()      #reset 3_0 \n",
    "E16 = rtb.ET.tx(0.04884)#3_p5\n",
    "E17 = rtb.ET.tz(-0.6488)#3_p5\n",
    "E18 = rtb.ET.Ry()       #reset p5_0\n",
    "E19 = rtb.ET.tx(-0.0350)#p5_p6\n",
    "E20 = rtb.ET.tz(0.33367)#p5_p6\n",
    "E21 = rtb.ET.Ry()       #reset p6_0\n",
    "E22 = rtb.ET.tx(0.795)  #p6_p7\n",
    "E23 = rtb.ET.tz(-0.193) #p6_p7\n",
    "E24 = rtb.ET.Ry()       #reset 5_0\n",
    "E25 = rtb.ET.Rz()       #5_6\n",
    "E26 = rtb.ET.tx(l6)     #5_6\n",
    "E27 = rtb.ET.tz(l7)     #5_6"
   ]
  },
  {
   "cell_type": "code",
   "execution_count": 12,
   "id": "99ec99d4-d8fa-4b5a-b588-88e9d7bafaea",
   "metadata": {},
   "outputs": [],
   "source": [
    "irb460a = E1 * E2 * E3 * E4 * E5 * E6 * E7 * E8 * E9 * E10 * E11 * E12 * E13 * E14 * E15 * E16 * E17\n",
    "irb460b = E18 * E19 * E20 * E21 * E22 * E23 * E24 * E25 * E26\n",
    "irb460 = irb460a * irb460b"
   ]
  },
  {
   "cell_type": "code",
   "execution_count": 13,
   "id": "cfb6377d-1fe8-4c64-ae36-6075b5bcf178",
   "metadata": {},
   "outputs": [
    {
     "name": "stdout",
     "output_type": "stream",
     "text": [
      "tx(0.26) ⊕ tz(0.508) ⊕ tx(0.26) ⊕ tz(0.508) ⊕ tz(0.945) ⊕ tx(-0.4) ⊕ Ry(q0) ⊕ tz(0.945) ⊕ tx(1.025) ⊕ Ry(q1) ⊕ tx(-0.26) ⊕ tz(0.437) ⊕ tx(0.247) ⊕ tz(0.804) ⊕ Ry(q2) ⊕ tx(0.04884) ⊕ tz(-0.6488) ⊕ Ry(q0) ⊕ tx(-0.035) ⊕ tz(0.3337) ⊕ Ry(q1) ⊕ tx(0.795) ⊕ tz(-0.193) ⊕ Ry(q2) ⊕ Rz(q3) ⊕ tx(0.22)\n"
     ]
    }
   ],
   "source": [
    "print(irb460)"
   ]
  },
  {
   "cell_type": "markdown",
   "id": "03b7d73a-874a-41d3-b3c1-b94cc8e9a711",
   "metadata": {},
   "source": [
    "## Jacobiano\n",
    "\n",
    "O jacobiano do manipulador IRB 460 pode ser encontrado por meio de funções próprias do RTB.\n",
    "Estão definidas em dois pontos de referência, no chamado `world frame` e no `frame do órgão terminal`."
   ]
  },
  {
   "cell_type": "code",
   "execution_count": 14,
   "id": "82b8e27c-13f6-4d54-a4af-d6f91ab5ce44",
   "metadata": {},
   "outputs": [
    {
     "name": "stdout",
     "output_type": "stream",
     "text": [
      "The manipulator Jacobian (world frame) is: \n",
      "[[ 2.05  1.1  -0.08  0.52  0.22 -0.07  0.15]\n",
      " [ 0.    0.    0.   -0.    0.    0.   -0.13]\n",
      " [-1.41 -0.39 -0.76 -0.53 -0.66  0.11  0.1 ]\n",
      " [ 0.    0.    0.    0.    0.    0.   -0.56]\n",
      " [ 1.    1.    1.    1.    1.    1.    0.  ]\n",
      " [ 0.    0.    0.    0.    0.    0.    0.83]]\n",
      "\n",
      "The manipulator Jacobian (end-effector frame) is: \n",
      "[[-0.53 -0.41  0.29 -0.08  0.11  0.    0.  ]\n",
      " [ 0.72  0.56 -0.4   0.11 -0.16  0.    0.22]\n",
      " [-2.32 -0.94 -0.59 -0.73 -0.67  0.13  0.  ]\n",
      " [-0.81 -0.81 -0.81 -0.81 -0.81 -0.81  0.  ]\n",
      " [-0.59 -0.59 -0.59 -0.59 -0.59 -0.59  0.  ]\n",
      " [ 0.    0.    0.    0.    0.    0.    1.  ]]\n"
     ]
    }
   ],
   "source": [
    "q = np.array([0, -0.3, 0, -2.2, 0, 2, 0.79])\n",
    "# Note: The irb460 object which we have been using is an instance of the ETS class\n",
    "\n",
    "# Calculate the world frame Jacobian using the ETS class\n",
    "J0 = irb460.jacob0(q)\n",
    "\n",
    "# Calculate the end-effector frame Jacobian using the ETS class\n",
    "Je = irb460.jacobe(q)\n",
    "\n",
    "# View our Jacobians\n",
    "print(f\"The manipulator Jacobian (world frame) is: \\n{np.round(J0, 2)}\")\n",
    "print(f\"\\nThe manipulator Jacobian (end-effector frame) is: \\n{np.round(Je, 2)}\")"
   ]
  },
  {
   "cell_type": "code",
   "execution_count": null,
   "id": "fdd6108b-c61a-45c1-bf89-6c939d249ede",
   "metadata": {},
   "outputs": [],
   "source": []
  }
 ],
 "metadata": {
  "kernelspec": {
   "display_name": "Python 3 (ipykernel)",
   "language": "python",
   "name": "python3"
  },
  "language_info": {
   "codemirror_mode": {
    "name": "ipython",
    "version": 3
   },
   "file_extension": ".py",
   "mimetype": "text/x-python",
   "name": "python",
   "nbconvert_exporter": "python",
   "pygments_lexer": "ipython3",
   "version": "3.9.12"
  }
 },
 "nbformat": 4,
 "nbformat_minor": 5
}
