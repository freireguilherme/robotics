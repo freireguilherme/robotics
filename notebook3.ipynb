{
 "cells": [
  {
   "cell_type": "code",
   "execution_count": 1,
   "id": "d170e868-d421-4fd2-b605-a6a75d9c0ed3",
   "metadata": {},
   "outputs": [],
   "source": [
    "# We will do the imports required for this notebook here\n",
    "\n",
    "# numpy provides import array and linear algebra utilities\n",
    "import numpy as np\n",
    "\n",
    "# the robotics toolbox provides robotics specific functionality\n",
    "import roboticstoolbox as rtb\n",
    "\n",
    "# spatial math provides objects for representing transformations\n",
    "import spatialmath as sm\n",
    "\n",
    "# use timeit to benchmark some methods\n",
    "from timeit import default_timer as timer\n",
    "\n",
    "# ansitable is a great package for printing tables in a terminal\n",
    "from ansitable import ANSITable\n",
    "\n",
    "# swift is a lightweight browser-based simulator which comes eith the toolbox\n",
    "from swift import Swift\n",
    "\n",
    "# the Python math library\n",
    "import math\n",
    "\n",
    "# spatialgeometry is a utility package for dealing with geometric objects\n",
    "import spatialgeometry as sg\n",
    "\n",
    "# typing utilities\n",
    "from typing import Tuple"
   ]
  },
  {
   "cell_type": "markdown",
   "id": "93066c38-4930-4ee2-9a3d-8e157a7be9d8",
   "metadata": {},
   "source": [
    "## Definição do manipulador ABB IRB 460"
   ]
  },
  {
   "cell_type": "code",
   "execution_count": 2,
   "id": "0f99a900-7518-435c-a471-1f8381277fe1",
   "metadata": {},
   "outputs": [],
   "source": [
    "#tamanho dos elos ativos\n",
    "l1 = 0.2345\n",
    "l2 = 0.508\n",
    "l3 = 0.260\n",
    "l4 = 0.945\n",
    "l5 = 1.025\n",
    "l6 = 0.220\n",
    "l7 = -0.2515\n",
    "\n",
    "E1 = rtb.ET.tx(l3)     #0_1\n",
    "E2 = rtb.ET.tz(l2)     #0_1\n",
    "E3 = rtb.ET.tx(l3)     #0_1\n",
    "E4 = rtb.ET.tz(l2)     #1_3\n",
    "E5 = rtb.ET.tz(l4)     #2_4\n",
    "E6 = rtb.ET.tx(-0.400) #3_p1\n",
    "E7 = rtb.ET.Ry()       #reset p1_0\n",
    "E8 = rtb.ET.tz(l4)     #p1_p2\n",
    "E9 = rtb.ET.tx(l5)     #4_5\n",
    "E10 = rtb.ET.Ry()      #1_p3 \n",
    "E11 = rtb.ET.tx(-l3)   #1_p3 \n",
    "E12 = rtb.ET.tz(0.437) #1_p3 \n",
    "E13 = rtb.ET.tx(0.247) #p3_p4 \n",
    "E14 = rtb.ET.tz(0.804) #p3_p4\n",
    "E15 = rtb.ET.Ry()      #reset 3_0 \n",
    "E16 = rtb.ET.tx(0.04884)#3_p5\n",
    "E17 = rtb.ET.tz(-0.6488)#3_p5\n",
    "E18 = rtb.ET.Ry()       #reset p5_0\n",
    "E19 = rtb.ET.tx(-0.0350)#p5_p6\n",
    "E20 = rtb.ET.tz(0.33367)#p5_p6\n",
    "E21 = rtb.ET.Ry()       #reset p6_0\n",
    "E22 = rtb.ET.tx(0.795)  #p6_p7\n",
    "E23 = rtb.ET.tz(-0.193) #p6_p7\n",
    "E24 = rtb.ET.Ry()       #reset 5_0\n",
    "E25 = rtb.ET.Rz()       #5_6\n",
    "E26 = rtb.ET.tx(l6)     #5_6\n",
    "E27 = rtb.ET.tz(l7)     #5_6"
   ]
  },
  {
   "cell_type": "markdown",
   "id": "19315745-0a77-4009-ae18-d7fb7c590089",
   "metadata": {},
   "source": [
    "## Trajetória\n",
    "\n",
    "Aqui definiremos a trajetória a ser realizada pelo manipulador IRB460. O RTB vem com algumas classes de robôs definidas.\n",
    "Todas elas para manipuladores seriais. É dito que `but not mechanisms which form closed loops in their structure`, ou seja, a classe `Robot` e suas funções não são definidas para manipuladores com cadeia fechada (nosso caso).\n",
    "\n",
    "Por meio da função `fkine` podemos determinar a cinemática direta de um manipulador definido, podendo adicionar como parâmetros o elo de `start` e o elo de `end`. O elo de início e o elo de fim da análise."
   ]
  },
  {
   "cell_type": "code",
   "execution_count": 6,
   "id": "4e5c4b0f-d7fb-4c21-b2f5-396e9b039395",
   "metadata": {},
   "outputs": [],
   "source": []
  }
 ],
 "metadata": {
  "kernelspec": {
   "display_name": "Python 3 (ipykernel)",
   "language": "python",
   "name": "python3"
  },
  "language_info": {
   "codemirror_mode": {
    "name": "ipython",
    "version": 3
   },
   "file_extension": ".py",
   "mimetype": "text/x-python",
   "name": "python",
   "nbconvert_exporter": "python",
   "pygments_lexer": "ipython3",
   "version": "3.9.12"
  }
 },
 "nbformat": 4,
 "nbformat_minor": 5
}
